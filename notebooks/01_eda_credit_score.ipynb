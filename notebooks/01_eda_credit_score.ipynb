{
 "cells": [
  {
   "cell_type": "markdown",
   "metadata": {},
   "source": [
    "# 📊 Análise Exploratória - Score de Crédito QuantumFinance\n",
    "\n",
    "## Objetivo\n",
    "Explorar e entender o dataset de score de crédito para desenvolver um modelo de classificação.\n",
    "\n",
    "## Autor\n",
    "Aluno MBA FIAP - MLOps\n",
    "\n",
    "---"
   ]
  },
  {
   "cell_type": "markdown",
   "metadata": {},
   "source": [
    "## 1. Importar Bibliotecas"
   ]
  },
  {
   "cell_type": "code",
   "execution_count": null,
   "metadata": {},
   "outputs": [],
   "source": [
    "# Bibliotecas para análise de dados\n",
    "import pandas as pd\n",
    "import numpy as np\n",
    "\n",
    "# Bibliotecas para visualização\n",
    "import matplotlib.pyplot as plt\n",
    "import seaborn as sns\n",
    "\n",
    "# Configurações de visualização\n",
    "plt.style.use('seaborn-v0_8')\n",
    "sns.set_palette('husl')\n",
    "\n",
    "# Ignorar warnings\n",
    "import warnings\n",
    "warnings.filterwarnings('ignore')\n",
    "\n",
    "# Configurar pandas para mostrar mais colunas\n",
    "pd.set_option('display.max_columns', None)\n",
    "pd.set_option('display.max_rows', 100)\n",
    "\n",
    "print(\"✅ Bibliotecas importadas com sucesso!\")"
   ]
  },
  {
   "cell_type": "markdown",
   "metadata": {},
   "source": [
    "## 2. Carregar Dados"
   ]
  },
  {
   "cell_type": "code",
   "execution_count": null,
   "metadata": {},
   "outputs": [],
   "source": [
    "# Definir caminho dos dados\n",
    "import os\n",
    "from pathlib import Path\n",
    "\n",
    "# Subir um nível do notebook para acessar a pasta data\n",
    "DATA_PATH = Path('../data/raw')\n",
    "\n",
    "# Listar arquivos disponíveis\n",
    "print(\"📁 Arquivos disponíveis em data/raw:\")\n",
    "if DATA_PATH.exists():\n",
    "    for file in DATA_PATH.glob('*.csv'):\n",
    "        print(f\"  - {file.name}\")\n",
    "else:\n",
    "    print(\"❌ Pasta data/raw não encontrada!\")"
   ]
  },
  {
   "cell_type": "code",
   "execution_count": null,
   "metadata": {},
   "outputs": [],
   "source": [
    "# Carregar o dataset\n",
    "# Ajustar o nome do arquivo conforme o que foi baixado do Kaggle\n",
    "df = pd.read_csv(DATA_PATH / 'train.csv')  # ou outro nome do arquivo\n",
    "\n",
    "print(f\"✅ Dataset carregado com sucesso!\")\n",
    "print(f\"📊 Dimensões: {df.shape[0]} linhas x {df.shape[1]} colunas\")"
   ]
  },
  {
   "cell_type": "markdown",
   "metadata": {},
   "source": [
    "## 3. Visão Geral dos Dados"
   ]
  },
  {
   "cell_type": "code",
   "execution_count": null,
   "metadata": {},
   "outputs": [],
   "source": [
    "# Primeiras linhas do dataset\n",
    "print(\"📋 Primeiras 5 linhas do dataset:\")\n",
    "df.head()"
   ]
  },
  {
   "cell_type": "code",
   "execution_count": null,
   "metadata": {},
   "outputs": [],
   "source": [
    "# Informações gerais\n",
    "print(\"📊 Informações do Dataset:\")\n",
    "df.info()"
   ]
  },
  {
   "cell_type": "code",
   "execution_count": null,
   "metadata": {},
   "outputs": [],
   "source": [
    "# Estatísticas descritivas das variáveis numéricas\n",
    "print(\"📈 Estatísticas Descritivas:\")\n",
    "df.describe()"
   ]
  },
  {
   "cell_type": "markdown",
   "metadata": {},
   "source": [
    "## 4. Análise da Variável Target (Credit Score)"
   ]
  },
  {
   "cell_type": "code",
   "execution_count": null,
   "metadata": {},
   "outputs": [],
   "source": [
    "# Verificar a distribuição do Credit Score\n",
    "print(\"🎯 Distribuição do Credit Score:\")\n",
    "print(df['Credit_Score'].value_counts())\n",
    "print(\"\\nPercentual:\")\n",
    "print(df['Credit_Score'].value_counts(normalize=True) * 100)"
   ]
  },
  {
   "cell_type": "code",
   "execution_count": null,
   "metadata": {},
   "outputs": [],
   "source": [
    "# Visualizar distribuição do Credit Score\n",
    "plt.figure(figsize=(8, 6))\n",
    "df['Credit_Score'].value_counts().plot(kind='bar')\n",
    "plt.title('Distribuição do Credit Score', fontsize=16, fontweight='bold')\n",
    "plt.xlabel('Credit Score', fontsize=12)\n",
    "plt.ylabel('Quantidade', fontsize=12)\n",
    "plt.xticks(rotation=0)\n",
    "\n",
    "# Adicionar valores nas barras\n",
    "for i, v in enumerate(df['Credit_Score'].value_counts()):\n",
    "    plt.text(i, v + 100, str(v), ha='center', fontweight='bold')\n",
    "\n",
    "plt.tight_layout()\n",
    "plt.show()"
   ]
  },
  {
   "cell_type": "markdown",
   "metadata": {},
   "source": [
    "## 5. Análise de Valores Faltantes"
   ]
  },
  {
   "cell_type": "code",
   "execution_count": null,
   "metadata": {},
   "outputs": [],
   "source": [
    "# Verificar valores faltantes\n",
    "missing_values = df.isnull().sum()\n",
    "missing_percent = (missing_values / len(df)) * 100\n",
    "\n",
    "missing_df = pd.DataFrame({\n",
    "    'Coluna': missing_values.index,\n",
    "    'Valores_Faltantes': missing_values.values,\n",
    "    'Percentual': missing_percent.values\n",
    "})\n",
    "\n",
    "# Mostrar apenas colunas com valores faltantes\n",
    "missing_df = missing_df[missing_df['Valores_Faltantes'] > 0].sort_values('Percentual', ascending=False)\n",
    "\n",
    "if len(missing_df) > 0:\n",
    "    print(\"❓ Colunas com valores faltantes:\")\n",
    "    print(missing_df)\n",
    "    \n",
    "    # Visualizar valores faltantes\n",
    "    plt.figure(figsize=(10, 6))\n",
    "    missing_df.plot(x='Coluna', y='Percentual', kind='bar')\n",
    "    plt.title('Percentual de Valores Faltantes por Coluna', fontsize=16, fontweight='bold')\n",
    "    plt.xlabel('Coluna', fontsize=12)\n",
    "    plt.ylabel('Percentual (%)', fontsize=12)\n",
    "    plt.xticks(rotation=45, ha='right')\n",
    "    plt.tight_layout()\n",
    "    plt.show()\n",
    "else:\n",
    "    print(\"✅ Não há valores faltantes no dataset!\")"
   ]
  },
  {
   "cell_type": "markdown",
   "metadata": {},
   "source": [
    "## 6. Análise das Variáveis Numéricas"
   ]
  },
  {
   "cell_type": "code",
   "execution_count": null,
   "metadata": {},
   "outputs": [],
   "source": [
    "# Identificar colunas numéricas\n",
    "numeric_cols = df.select_dtypes(include=['int64', 'float64']).columns.tolist()\n",
    "print(f\"📊 Encontradas {len(numeric_cols)} colunas numéricas:\")\n",
    "print(numeric_cols)"
   ]
  },
  {
   "cell_type": "code",
   "execution_count": null,
   "metadata": {},
   "outputs": [],
   "source": [
    "# Criar histogramas para variáveis numéricas\n",
    "if len(numeric_cols) > 0:\n",
    "    fig, axes = plt.subplots(nrows=(len(numeric_cols) + 3) // 4, ncols=4, figsize=(16, 4 * ((len(numeric_cols) + 3) // 4)))\n",
    "    axes = axes.flatten()\n",
    "    \n",
    "    for i, col in enumerate(numeric_cols[:16]):  # Limitar a 16 gráficos\n",
    "        df[col].hist(bins=30, ax=axes[i], edgecolor='black')\n",
    "        axes[i].set_title(f'Distribuição: {col}', fontsize=10)\n",
    "        axes[i].set_xlabel(col, fontsize=8)\n",
    "        axes[i].set_ylabel('Frequência', fontsize=8)\n",
    "    \n",
    "    # Remover eixos extras\n",
    "    for i in range(len(numeric_cols), len(axes)):\n",
    "        fig.delaxes(axes[i])\n",
    "    \n",
    "    plt.suptitle('Distribuição das Variáveis Numéricas', fontsize=16, fontweight='bold')\n",
    "    plt.tight_layout()\n",
    "    plt.show()"
   ]
  },
  {
   "cell_type": "markdown",
   "metadata": {},
   "source": [
    "## 7. Análise das Variáveis Categóricas"
   ]
  },
  {
   "cell_type": "code",
   "execution_count": null,
   "metadata": {},
   "outputs": [],
   "source": [
    "# Identificar colunas categóricas\n",
    "categorical_cols = df.select_dtypes(include=['object']).columns.tolist()\n",
    "\n",
    "# Remover Credit_Score da lista se estiver presente\n",
    "if 'Credit_Score' in categorical_cols:\n",
    "    categorical_cols.remove('Credit_Score')\n",
    "\n",
    "print(f\"📊 Encontradas {len(categorical_cols)} colunas categóricas:\")\n",
    "print(categorical_cols)"
   ]
  },
  {
   "cell_type": "code",
   "execution_count": null,
   "metadata": {},
   "outputs": [],
   "source": [
    "# Analisar variáveis categóricas com poucos valores únicos\n",
    "for col in categorical_cols[:10]:  # Limitar a 10 colunas\n",
    "    unique_count = df[col].nunique()\n",
    "    \n",
    "    if unique_count <= 10:  # Mostrar apenas se tiver até 10 valores únicos\n",
    "        print(f\"\\n📌 {col} ({unique_count} valores únicos):\")\n",
    "        print(df[col].value_counts())\n",
    "        \n",
    "        # Criar gráfico de barras\n",
    "        plt.figure(figsize=(8, 4))\n",
    "        df[col].value_counts().plot(kind='bar')\n",
    "        plt.title(f'Distribuição: {col}', fontsize=14)\n",
    "        plt.xlabel(col, fontsize=12)\n",
    "        plt.ylabel('Quantidade', fontsize=12)\n",
    "        plt.xticks(rotation=45, ha='right')\n",
    "        plt.tight_layout()\n",
    "        plt.show()"
   ]
  },
  {
   "cell_type": "markdown",
   "metadata": {},
   "source": [
    "## 8. Análise de Correlação"
   ]
  },
  {
   "cell_type": "code",
   "execution_count": null,
   "metadata": {},
   "outputs": [],
   "source": [
    "# Criar matriz de correlação apenas para variáveis numéricas\n",
    "if len(numeric_cols) > 1:\n",
    "    # Calcular correlação\n",
    "    correlation_matrix = df[numeric_cols].corr()\n",
    "    \n",
    "    # Criar heatmap\n",
    "    plt.figure(figsize=(12, 10))\n",
    "    sns.heatmap(correlation_matrix, \n",
    "                annot=True, \n",
    "                cmap='coolwarm', \n",
    "                center=0, \n",
    "                fmt='.2f',\n",
    "                square=True,\n",
    "                linewidths=1,\n",
    "                cbar_kws={\"shrink\": 0.8})\n",
    "    plt.title('Matriz de Correlação das Variáveis Numéricas', fontsize=16, fontweight='bold')\n",
    "    plt.tight_layout()\n",
    "    plt.show()"
   ]
  },
  {
   "cell_type": "markdown",
   "metadata": {},
   "source": [
    "## 9. Análise Bivariada - Relação com Credit Score"
   ]
  },
  {
   "cell_type": "code",
   "execution_count": null,
   "metadata": {},
   "outputs": [],
   "source": [
    "# Analisar algumas variáveis numéricas importantes em relação ao Credit Score\n",
    "# Vamos pegar as primeiras 4 variáveis numéricas como exemplo\n",
    "important_numeric_cols = numeric_cols[:4]\n",
    "\n",
    "if len(important_numeric_cols) > 0:\n",
    "    fig, axes = plt.subplots(nrows=2, ncols=2, figsize=(12, 10))\n",
    "    axes = axes.flatten()\n",
    "    \n",
    "    for i, col in enumerate(important_numeric_cols):\n",
    "        df.boxplot(column=col, by='Credit_Score', ax=axes[i])\n",
    "        axes[i].set_title(f'{col} por Credit Score', fontsize=12)\n",
    "        axes[i].set_xlabel('Credit Score', fontsize=10)\n",
    "        axes[i].set_ylabel(col, fontsize=10)\n",
    "    \n",
    "    plt.suptitle('Análise Bivariada: Variáveis Numéricas vs Credit Score', fontsize=16, fontweight='bold')\n",
    "    plt.tight_layout()\n",
    "    plt.show()"
   ]
  },
  {
   "cell_type": "markdown",
   "metadata": {},
   "source": [
    "## 10. Insights e Conclusões"
   ]
  },
  {
   "cell_type": "code",
   "execution_count": null,
   "metadata": {},
   "outputs": [],
   "source": [
    "# Resumo dos insights encontrados\n",
    "print(\"📋 RESUMO DA ANÁLISE EXPLORATÓRIA\")\n",
    "print(\"=\" * 50)\n",
    "print(f\"\\n1. Dataset:\")\n",
    "print(f\"   - Total de registros: {df.shape[0]:,}\")\n",
    "print(f\"   - Total de features: {df.shape[1]}\")\n",
    "print(f\"   - Features numéricas: {len(numeric_cols)}\")\n",
    "print(f\"   - Features categóricas: {len(categorical_cols)}\")\n",
    "\n",
    "print(f\"\\n2. Variável Target (Credit Score):\")\n",
    "for score, count in df['Credit_Score'].value_counts().items():\n",
    "    percent = (count / len(df)) * 100\n",
    "    print(f\"   - {score}: {count:,} ({percent:.1f}%)\")\n",
    "\n",
    "print(f\"\\n3. Qualidade dos Dados:\")\n",
    "total_missing = df.isnull().sum().sum()\n",
    "if total_missing > 0:\n",
    "    print(f\"   - Valores faltantes: {total_missing:,} ({(total_missing / (df.shape[0] * df.shape[1]) * 100):.2f}%)\")\n",
    "else:\n",
    "    print(f\"   - Sem valores faltantes ✅\")\n",
    "\n",
    "print(f\"\\n4. Próximos Passos:\")\n",
    "print(\"   - Tratar valores faltantes (se houver)\")\n",
    "print(\"   - Codificar variáveis categóricas\")\n",
    "print(\"   - Normalizar/padronizar features numéricas\")\n",
    "print(\"   - Selecionar features mais relevantes\")\n",
    "print(\"   - Treinar modelo de classificação\")\n",
    "print(\"   - Implementar validação cruzada\")\n",
    "print(\"   - Otimizar hiperparâmetros\")\n",
    "print(\"\\n\" + \"=\" * 50)"
   ]
  },
  {
   "cell_type": "markdown",
   "metadata": {},
   "source": [
    "## 11. Salvar Dataset Limpo"
   ]
  },
  {
   "cell_type": "code",
   "execution_count": null,
   "metadata": {},
   "outputs": [],
   "source": [
    "# Opção para salvar o dataset após análise inicial\n",
    "# df.to_csv('../data/processed/credit_score_eda.csv', index=False)\n",
    "# print(\"✅ Dataset salvo em data/processed/credit_score_eda.csv\")"
   ]
  }
 ],
 "metadata": {
  "kernelspec": {
   "display_name": "Python 3",
   "language": "python",
   "name": "python3"
  },
  "language_info": {
   "codemirror_mode": {
    "name": "ipython",
    "version": 3
   },
   "file_extension": ".py",
   "mimetype": "text/x-python",
   "name": "python",
   "nbconvert_exporter": "python",
   "pygments_lexer": "ipython3",
   "version": "3.9.0"
  }
 },
 "nbformat": 4,
 "nbformat_minor": 4
}